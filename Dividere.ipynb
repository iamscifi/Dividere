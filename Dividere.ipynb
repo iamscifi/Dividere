{
  "nbformat": 4,
  "nbformat_minor": 0,
  "metadata": {
    "colab": {
      "name": "Dividere.ipynb",
      "provenance": [],
      "collapsed_sections": [],
      "authorship_tag": "ABX9TyPb2DDK/9Itx/yl14gzv4ah",
      "include_colab_link": true
    },
    "kernelspec": {
      "name": "python3",
      "display_name": "Python 3"
    },
    "language_info": {
      "name": "python"
    }
  },
  "cells": [
    {
      "cell_type": "markdown",
      "metadata": {
        "id": "view-in-github",
        "colab_type": "text"
      },
      "source": [
        "<a href=\"https://colab.research.google.com/github/iamscifi/Dividere/blob/main/Dividere.ipynb\" target=\"_parent\"><img src=\"https://colab.research.google.com/assets/colab-badge.svg\" alt=\"Open In Colab\"/></a>"
      ]
    },
    {
      "cell_type": "markdown",
      "source": [
        "# Bank"
      ],
      "metadata": {
        "id": "Mz06m2XG6NrD"
      }
    },
    {
      "cell_type": "code",
      "source": [
        "class Account():\n",
        "  def __init__ (self):\n",
        "    self._balance=0\n",
        "\n",
        "  @property\n",
        "  def balance(self):\n",
        "    return self._balance\n",
        "\n",
        "  def deposit(self,n):\n",
        "    self._balance+=n\n",
        "\n",
        "  def withdraw(self,n):\n",
        "    self._balance-=n\n",
        "\n",
        "def main():\n",
        "  account=Account()\n",
        "  a='Balance: '\n",
        "  print(a,account.balance)\n",
        "  account.deposit(100)\n",
        "  print(a,account.balance)\n",
        "  account.withdraw(50)\n",
        "  print(a,account.balance)\n",
        "\n",
        "if __name__=='__main__':\n",
        "  main()"
      ],
      "metadata": {
        "colab": {
          "base_uri": "https://localhost:8080/"
        },
        "id": "koiYom7o6S0I",
        "outputId": "3495dd63-9d25-44b3-f308-84502560ecd5"
      },
      "execution_count": 4,
      "outputs": [
        {
          "output_type": "stream",
          "name": "stdout",
          "text": [
            "Balance:  0\n",
            "Balance:  100\n",
            "Balance:  50\n"
          ]
        }
      ]
    },
    {
      "cell_type": "markdown",
      "source": [
        "# Gameplay"
      ],
      "metadata": {
        "id": "4DajXOFoC1rs"
      }
    },
    {
      "cell_type": "markdown",
      "source": [
        "## Board"
      ],
      "metadata": {
        "id": "ypLGpE4DXNYQ"
      }
    },
    {
      "cell_type": "markdown",
      "source": [
        "Dictionary Board"
      ],
      "metadata": {
        "id": "hz0VwzGgC8Dd"
      }
    },
    {
      "cell_type": "code",
      "source": [
        "board_spots={'middle':0,'1,1':0,'2,1':0,'3,1':0,'4,1':0,'5,1':0,}\n",
        "\n"
      ],
      "metadata": {
        "colab": {
          "base_uri": "https://localhost:8080/"
        },
        "id": "CIpGTmfLXRbs",
        "outputId": "74ab380e-6696-4ee0-9246-db67c73658be"
      },
      "execution_count": null,
      "outputs": [
        {
          "output_type": "execute_result",
          "data": {
            "text/plain": [
              "96"
            ]
          },
          "metadata": {},
          "execution_count": 4
        }
      ]
    },
    {
      "cell_type": "markdown",
      "source": [
        "ndarray board"
      ],
      "metadata": {
        "id": "ZYJcqTkrDCRn"
      }
    },
    {
      "cell_type": "code",
      "source": [
        "from numpy import array\n",
        "\n",
        "board_spots_array=array([[0,0], # x,y | 0 | middle\n",
        "                         [[1,2,3,4,5,6],[7,8,9,10,11,12]], # x+,y+ | 1 | top-right\n",
        "                         [[13,14,15,16,17,18],[19,20,21,22,23,24]], # x-,y+ | 2 | top-left\n",
        "                         [[25,26,27,28,29,30],[31,32,33,34,35,36]], # x-,y- | 3 | bottom-left\n",
        "                         [[37,38,39,40,41,42],[43,44,45,46,47,48]]]) # x+,y- | 4 | bottom-right"
      ],
      "metadata": {
        "id": "nk_GzNyUDNkL"
      },
      "execution_count": null,
      "outputs": []
    },
    {
      "cell_type": "markdown",
      "source": [
        "## Cards"
      ],
      "metadata": {
        "id": "rT_fV8o3IItV"
      }
    },
    {
      "cell_type": "code",
      "source": [
        "import ed\n",
        "\n",
        "a = self,feat,pwr_lvl,bank,atk,def_,speed,amount,touched,\n",
        "                     'spot_dist','line_dist','cone_dist','area_dist']\n",
        "\n"
      ],
      "metadata": {
        "id": "aoFMPf52lrlE"
      },
      "execution_count": null,
      "outputs": []
    },
    {
      "cell_type": "markdown",
      "source": [
        "### Card Creator"
      ],
      "metadata": {
        "id": "518wXGtqrAw9"
      }
    },
    {
      "cell_type": "code",
      "source": [
        "healer=''\n",
        "class card_maker_troop(self,feat,pwr_lvl,bank,atk,def_,speed,amount,touched,\n",
        "                     spot_dist=0,line_dist=0,cone_dist=0,area_dist=0):\n",
        "  \n",
        "  def cost():\n",
        "    attack=1*atk\n",
        "    defense=1*def_\n",
        "    speed_=1*speed\n",
        "    self_=.5*amount\n",
        "    touch=(2+(1*touched))*amount\n",
        "    range_spot=1*spot_dist*amount\n",
        "    range_line=2*line_dist*amount\n",
        "    range_cone=3*cone_dist*amount\n",
        "    range_area=4*area_dist*amount\n",
        "    char=5*amount\n",
        "    stat_set=(attack,defense,speed_,self_,touch,range_spot,range_line,range_cone,\n",
        "              range_area,char)\n",
        "    if bank<=sum(stat_set):\n",
        "      return bank-sum(stat_set),stat_set\n",
        "    else:\n",
        "      return print('Too many points used. Try making a less powerful card.')\n",
        "  def stats():\n",
        "    pass\n",
        "  print(cost)\n",
        "\n",
        "card_maker_troop(healer,1,1000,5,5,5,3,2)"
      ],
      "metadata": {
        "colab": {
          "base_uri": "https://localhost:8080/"
        },
        "outputId": "e1d72b38-920a-4b66-d609-8ecac00f515d",
        "id": "gfxFfjZLjSxb"
      },
      "execution_count": null,
      "outputs": [
        {
          "output_type": "stream",
          "name": "stdout",
          "text": [
            "<function card_maker_troop.<locals>.cost at 0x7f2a86dbda70>\n"
          ]
        }
      ]
    },
    {
      "cell_type": "code",
      "source": [
        "healer=''\n",
        "def card_maker_troop(feat,pwr_lvl,bank,atk,def_,speed,amount,touched,\n",
        "                     spot_dist=0,line_dist=0,cone_dist=0,area_dist=0):\n",
        "  def cost():\n",
        "    attack=1*atk\n",
        "    defense=1*def_\n",
        "    speed_=1*speed\n",
        "    self_=.5*amount\n",
        "    touch=(2+(1*touched))*amount\n",
        "    range_spot=1*spot_dist*amount\n",
        "    range_line=2*line_dist*amount\n",
        "    range_cone=3*cone_dist*amount\n",
        "    range_area=4*area_dist*amount\n",
        "    char=5*amount\n",
        "    stat_set=(attack,defense,speed_,self_,touch,range_spot,range_line,range_cone,\n",
        "              range_area,char)\n",
        "    if bank<=sum(stat_set):\n",
        "      return bank-sum(stat_set),stat_set\n",
        "    else:\n",
        "      return print('Too many points used. Try making a less powerful card.')\n",
        "  def stats():\n",
        "    pass\n",
        "  print(cost)\n",
        "\n",
        "card_maker_troop(healer,1,1000,5,5,5,3,2)"
      ],
      "metadata": {
        "colab": {
          "base_uri": "https://localhost:8080/"
        },
        "id": "5LYQV_xsr1cU",
        "outputId": "e1d72b38-920a-4b66-d609-8ecac00f515d"
      },
      "execution_count": null,
      "outputs": [
        {
          "output_type": "stream",
          "name": "stdout",
          "text": [
            "<function card_maker_troop.<locals>.cost at 0x7f2a86dbda70>\n"
          ]
        }
      ]
    },
    {
      "cell_type": "code",
      "source": [
        "card_styles={'atk':['melee','range','char'],\n",
        "             'def':['melee','range','char']}\n",
        "\n",
        "def card_maker_troop(feat,pwr_lvl,bank,atk,def_,speed,amount,touched,\n",
        "                     spot_dist=0,line_dist=0,cone_dist=0,area_dist=0):\n",
        "  def cost():\n",
        "    attack=1*atk\n",
        "    defense=1*def_\n",
        "    speed_=1*speed\n",
        "    self_=.5*amount\n",
        "    touch=(2+(1*touched))*amount\n",
        "    range_spot=1*spot_dist*amount\n",
        "    range_line=2*line_dist*amount\n",
        "    range_cone=3*cone_dist*amount\n",
        "    range_area=4*area_dist*amount\n",
        "    char=5*amount\n",
        "    stat_set=(attack,defense,speed_,self_,touch,range_spot,range_line,range_cone,\n",
        "              range_area,char)\n",
        "    if bank<=sum(stat_set):\n",
        "      return bank-sum(stat_set),stat_set\n",
        "    else:\n",
        "      return print('Too many points used. Try making a less powerful card.')\n",
        "  def stats():\n",
        "    pass\n",
        "  print(cost)\n",
        "\n",
        "card_feat_dict={'healer':{'style':'','score':'','script':'','def':''},\n",
        "                'dodge':{'style':'','score':'','script':'','def':''},\n",
        "                'tank':{'style':'','score':'','script':'','def':''},\n",
        "                'one-shot':{'style':'','score':'','script':'','def':''},\n",
        "                'tower':{'style':'','score':'','script':'','def':''},\n",
        "                'fog':{'style':'','score':'','script':'','def':''},\n",
        "                'catapult':{'style':'','score':'','script':'','def':''},\n",
        "                'volly':{'style':'','score':'','script':'','def':''},\n",
        "                'wall':{'style':'','score':'','script':'','def':''},\n",
        "                'rain of death':{'style':'','score':'','script':'','def':''},\n",
        "                'not dead yet':{'style':'','score':'','script':'','def':''},\n",
        "                'spotlight':{'style':'','score':'','script':'','def':''},\n",
        "                'sunder':{'style':'','score':'','script':'','def':''},\n",
        "                'invisible assassins':{'style':'','score':'','script':'','def':''},\n",
        "                'clone army':{'style':'','score':'','script':'','def':''},\n",
        "                'hold':['self','touch','range''char'],\n",
        "                'many me':{'style':'','score':'','script':'','def':''},\n",
        "                'coat-turner':{'style':'','score':'','script':'','def':''},\n",
        "                'flight':{'style':'','score':'','script':'','def':''},\n",
        "                'clear defense':{'style':'','score':'','script':'','def':''},\n",
        "                'immortal sacrifice':{'style':'','score':'','script':'','def':''},\n",
        "                'vampire':{'style':'','score':'','script':'','def':''},\n",
        "                'exp booster':{'style':'','score':'','script':'','def':''},\n",
        "                'distract':{'style':'','score':'','script':'','def':''},\n",
        "                'teleport':{'style':'','score':'','script':'','def':''},\n",
        "                '':{'style':'','score':'','script':'','def':''},\n",
        "                '':{'style':'','score':'','script':'','def':''},\n",
        "                '':{'style':'','score':'','script':'','def':''},\n",
        "                '':{'style':'','score':'','script':'','def':''},\n",
        "                '':{'style':'','score':'','script':'','def':''},\n",
        "                '':{'style':'','score':'','script':'','def':''},\n",
        "                '':{'style':'','score':'','script':'','def':''},\n",
        "                '':{'style':'','score':'','script':'','def':''},\n",
        "                '':{'style':'','score':'','script':'','def':''},\n",
        "                '':{'style':'','score':'','script':'','def':''},\n",
        "                }\n",
        "\n",
        "melee_types=['brawler','assassin','broadsword','longsword',\n",
        "             'long-sword & shield','shortsword','shortsword & shield','spear',\n",
        "             'spear & shield','spear & net','axe','axe & shield','hammer',\n",
        "             'hammer & shield','martial arts','trap setter','flail',\n",
        "             'flail & shield','large spiked shield','medium spiked shield',\n",
        "             'multiple small spiked shields','pin cushion armor',\n",
        "             'poisoned blade','curved longsword','curved shortsword','staff',\n",
        "             'mace','mace & shield','morning star','morning star & shield',\n",
        "             '']\n",
        "range_types=['longbow','longbow & small shield','shortbow','shortbow & shield',\n",
        "             'blowgun','crossbow','']"
      ],
      "metadata": {
        "id": "X44QvU3erFFE"
      },
      "execution_count": null,
      "outputs": []
    },
    {
      "cell_type": "markdown",
      "source": [
        "### New Pack"
      ],
      "metadata": {
        "id": "AnC-7JbK8UAB"
      }
    },
    {
      "cell_type": "code",
      "source": [
        "# Common/white, no abilities, shows up in packs 80% of the time. Uncommon/green, \n",
        "# one ability, shows up in packs 12% of the time. Rare/blue, two abilities,\n",
        "# shows up in packs 7% of the time. Epic/purple, two abilities & +1 to attack &\n",
        "# defense, or three abilities, shows up in packs .9% of the time.\n",
        "# Legendary/gold; three abilities & +2 to attack & defense,\n",
        "# shows up in packs .1% of the time. Only magical legendary cards pop out of packs.\n",
        "from random import choices as ch\n",
        "\n",
        "def power_type_chooser():\n",
        "  power=['common','uncommon','rare','epic','legendary']\n",
        "  type_=['normal','magic']\n",
        "  card_power=ch(power,[800,120,70,9,1])\n",
        "  card_type=ch(type_,[95,5])\n",
        "  return card_power,card_type\n",
        "power_type_chooser()"
      ],
      "metadata": {
        "colab": {
          "base_uri": "https://localhost:8080/"
        },
        "id": "5i6jt-Pp8ZxD",
        "outputId": "bb4983bd-c7b9-4093-f3ba-1b4f9da520b9"
      },
      "execution_count": null,
      "outputs": [
        {
          "output_type": "execute_result",
          "data": {
            "text/plain": [
              "(['rare'], ['normal'])"
            ]
          },
          "metadata": {},
          "execution_count": 34
        }
      ]
    },
    {
      "cell_type": "markdown",
      "source": [
        "### Template"
      ],
      "metadata": {
        "id": "anRVN2y8qQkH"
      }
    },
    {
      "cell_type": "code",
      "source": [
        "blank_card={'abilities':[''],\n",
        "            'basic_atk_points':0,\n",
        "            'basic_atk_points_current':0,\n",
        "            'basic_def_points':0,\n",
        "            'basic_def_points_current':0,\n",
        "            'char_atk_points':0,\n",
        "            'char_atk_points_current':0,\n",
        "            'char_def_points':0,\n",
        "            'char_def_points_current':0,\n",
        "            'deck_limit':2,\n",
        "            'experience_level':0,\n",
        "            'experience_level_current':0,\n",
        "            'location':'',\n",
        "            'opponent_atk_points':0,\n",
        "            'opponent_atk_points_current':0,\n",
        "            'power_level':0,\n",
        "            'power_level_current':0,\n",
        "            'turn_count':0}\n",
        "\n",
        "def exp_leveler(power,turns,card_type='normal'):\n",
        "  if card_type is 'normal':\n",
        "    return power * turns * 2\n",
        "  else:\n",
        "    return power * turns\n",
        "def turn_counter():"
      ],
      "metadata": {
        "id": "gErpCXNKqT2y"
      },
      "execution_count": null,
      "outputs": []
    },
    {
      "cell_type": "markdown",
      "source": [
        "### Trap Templates"
      ],
      "metadata": {
        "id": "_IsGw7v6Id7M"
      }
    },
    {
      "cell_type": "markdown",
      "source": [
        "### Tricks Templates"
      ],
      "metadata": {
        "id": "M2psLuGPILlF"
      }
    },
    {
      "cell_type": "markdown",
      "source": [
        "### Troop Templates"
      ],
      "metadata": {
        "id": "e9EQL8VrIV-u"
      }
    },
    {
      "cell_type": "code",
      "source": [
        "basic_attack_points=''\n",
        "basic_defense_points=''\n",
        "char_attack_points=''\n",
        "char_defense_points=''\n",
        "deck_limit=2\n",
        "location=''\n",
        "\n",
        "\n",
        "\n"
      ],
      "metadata": {
        "id": "JfFp4e86IrEc"
      },
      "execution_count": null,
      "outputs": []
    },
    {
      "cell_type": "markdown",
      "source": [
        "## Character (char)"
      ],
      "metadata": {
        "id": "owDUvbdhePxX"
      }
    },
    {
      "cell_type": "markdown",
      "source": [
        "### Gear"
      ],
      "metadata": {
        "id": "N3fdspSoeVvD"
      }
    },
    {
      "cell_type": "code",
      "source": [],
      "metadata": {
        "id": "xwhudW2le8xT"
      },
      "execution_count": null,
      "outputs": []
    },
    {
      "cell_type": "markdown",
      "source": [
        "Magical"
      ],
      "metadata": {
        "id": "puGmi0cEenAw"
      }
    },
    {
      "cell_type": "markdown",
      "source": [
        "Physical"
      ],
      "metadata": {
        "id": "AABo_-hQegG6"
      }
    },
    {
      "cell_type": "markdown",
      "source": [
        "### Mount"
      ],
      "metadata": {
        "id": "FHSBLJhIeYs2"
      }
    },
    {
      "cell_type": "markdown",
      "source": [
        "### Stats"
      ],
      "metadata": {
        "id": "2SgW6L4LhpBa"
      }
    },
    {
      "cell_type": "code",
      "source": [
        "attack_magical=''\n",
        "attack_physical=''\n",
        "defense_magical=''\n",
        "defense_physical=''\n",
        "life_points=''\n",
        "speed=''"
      ],
      "metadata": {
        "id": "1S9tJWhNhsP8"
      },
      "execution_count": null,
      "outputs": []
    },
    {
      "cell_type": "markdown",
      "source": [
        "## Decks"
      ],
      "metadata": {
        "id": "v9j-ra5dE2BB"
      }
    },
    {
      "cell_type": "markdown",
      "source": [
        "### Deck"
      ],
      "metadata": {
        "id": "UgRnPRkCaxzr"
      }
    },
    {
      "cell_type": "code",
      "source": [
        "decks={'troops':[''],'tricks':[''],'traps':['']}\n",
        "count=len(deck)\n",
        "def count_check(count):\n",
        "  if count < 15 or count > 50:\n",
        "    return False and print('To play, decks need at least 15 cards, & no more than 50.')\n",
        "  else:\n",
        "    return True"
      ],
      "metadata": {
        "id": "4uNKbM32a1Wu"
      },
      "execution_count": null,
      "outputs": []
    },
    {
      "cell_type": "markdown",
      "source": [
        "### Hand"
      ],
      "metadata": {
        "id": "ccrfRn4QgBvd"
      }
    },
    {
      "cell_type": "code",
      "source": [],
      "metadata": {
        "id": "56XyqZqRgEDX"
      },
      "execution_count": null,
      "outputs": []
    },
    {
      "cell_type": "markdown",
      "source": [
        "### Shuffler"
      ],
      "metadata": {
        "id": "GZ1ytDzzFMif"
      }
    },
    {
      "cell_type": "code",
      "execution_count": null,
      "metadata": {
        "id": "NAUyf7X9Coub"
      },
      "outputs": [],
      "source": [
        "from random import shuffle\n",
        "\n",
        "deck = [1,2,3,4,5,6,7,8,9,10]\n",
        "\n",
        "shuffle(deck)"
      ]
    },
    {
      "cell_type": "markdown",
      "source": [
        "# Visual Art"
      ],
      "metadata": {
        "id": "jpw8TzwNm5MO"
      }
    },
    {
      "cell_type": "markdown",
      "source": [
        "## Graphics"
      ],
      "metadata": {
        "id": "5-pgxIyPkvr8"
      }
    },
    {
      "cell_type": "markdown",
      "source": [
        "AI Character \"Skins\" Creation & animation\n",
        "\n",
        "https://arxiv.org/abs/2204.02776"
      ],
      "metadata": {
        "id": "zn5zpwzXoKol"
      }
    }
  ]
}